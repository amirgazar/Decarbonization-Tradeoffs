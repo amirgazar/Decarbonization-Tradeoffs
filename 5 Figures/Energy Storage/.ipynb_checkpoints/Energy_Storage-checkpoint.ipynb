{
 "cells": [
  {
   "cell_type": "code",
   "execution_count": 36,
   "id": "f171bd18-5718-40e0-bd3e-c265d6e868e7",
   "metadata": {},
   "outputs": [],
   "source": [
    "import pandas as pd\n",
    "import numpy as np\n",
    "import matplotlib.pyplot as plt\n",
    "\n",
    "# Load the CSV file (already done in your code)\n",
    "#--stepwise\n",
    "csv_path = \"/Users/amirgazar/Documents/GitHub/Decarbonization-Tradeoffs/2 Generation Expansion Model/5 Dispatch Curve/4 Final Results/1 Comprehensive Days Summary Results/Battery_Data.csv\"\n",
    "yearly_results = pd.read_csv(csv_path)\n",
    "\n",
    "yearly_results = yearly_results[yearly_results['Pathway'] != 'A']\n",
    "yearly_results['CO2_mtons'] = yearly_results['CO2_tons'] / 1e3"
   ]
  },
  {
   "cell_type": "code",
   "execution_count": 37,
   "id": "98b8dfcd-1fb1-4a46-8ede-b05e8fbc80cc",
   "metadata": {},
   "outputs": [
    {
     "ename": "KeyError",
     "evalue": "\"Columns not found: 'Battery_Discharges_TWh'\"",
     "output_type": "error",
     "traceback": [
      "\u001b[0;31m---------------------------------------------------------------------------\u001b[0m",
      "\u001b[0;31mKeyError\u001b[0m                                  Traceback (most recent call last)",
      "Cell \u001b[0;32mIn[37], line 2\u001b[0m\n\u001b[1;32m      1\u001b[0m columns_to_summarize \u001b[38;5;241m=\u001b[39m [\u001b[38;5;124m'\u001b[39m\u001b[38;5;124mRP_mean\u001b[39m\u001b[38;5;124m'\u001b[39m, \u001b[38;5;124m'\u001b[39m\u001b[38;5;124mBattery_Discharges_TWh\u001b[39m\u001b[38;5;124m'\u001b[39m, \u001b[38;5;124m'\u001b[39m\u001b[38;5;124mShortages_TWh\u001b[39m\u001b[38;5;124m'\u001b[39m, \u001b[38;5;124m'\u001b[39m\u001b[38;5;124mCO2_mtons\u001b[39m\u001b[38;5;124m'\u001b[39m]  \n\u001b[0;32m----> 2\u001b[0m yearly_results \u001b[38;5;241m=\u001b[39m yearly_results\u001b[38;5;241m.\u001b[39mgroupby([\u001b[38;5;124m'\u001b[39m\u001b[38;5;124mPathway\u001b[39m\u001b[38;5;124m'\u001b[39m, \u001b[38;5;124m'\u001b[39m\u001b[38;5;124mYear\u001b[39m\u001b[38;5;124m'\u001b[39m])[columns_to_summarize]\u001b[38;5;241m.\u001b[39mmean()\u001b[38;5;241m.\u001b[39mreset_index()\n\u001b[1;32m      3\u001b[0m \u001b[38;5;28mprint\u001b[39m(yearly_results\u001b[38;5;241m.\u001b[39mmax()\u001b[38;5;241m*\u001b[39m\u001b[38;5;241m10\u001b[39m)\n",
      "File \u001b[0;32m/opt/anaconda3/lib/python3.12/site-packages/pandas/core/groupby/generic.py:1951\u001b[0m, in \u001b[0;36mDataFrameGroupBy.__getitem__\u001b[0;34m(self, key)\u001b[0m\n\u001b[1;32m   1944\u001b[0m \u001b[38;5;28;01mif\u001b[39;00m \u001b[38;5;28misinstance\u001b[39m(key, \u001b[38;5;28mtuple\u001b[39m) \u001b[38;5;129;01mand\u001b[39;00m \u001b[38;5;28mlen\u001b[39m(key) \u001b[38;5;241m>\u001b[39m \u001b[38;5;241m1\u001b[39m:\n\u001b[1;32m   1945\u001b[0m     \u001b[38;5;66;03m# if len == 1, then it becomes a SeriesGroupBy and this is actually\u001b[39;00m\n\u001b[1;32m   1946\u001b[0m     \u001b[38;5;66;03m# valid syntax, so don't raise\u001b[39;00m\n\u001b[1;32m   1947\u001b[0m     \u001b[38;5;28;01mraise\u001b[39;00m \u001b[38;5;167;01mValueError\u001b[39;00m(\n\u001b[1;32m   1948\u001b[0m         \u001b[38;5;124m\"\u001b[39m\u001b[38;5;124mCannot subset columns with a tuple with more than one element. \u001b[39m\u001b[38;5;124m\"\u001b[39m\n\u001b[1;32m   1949\u001b[0m         \u001b[38;5;124m\"\u001b[39m\u001b[38;5;124mUse a list instead.\u001b[39m\u001b[38;5;124m\"\u001b[39m\n\u001b[1;32m   1950\u001b[0m     )\n\u001b[0;32m-> 1951\u001b[0m \u001b[38;5;28;01mreturn\u001b[39;00m \u001b[38;5;28msuper\u001b[39m()\u001b[38;5;241m.\u001b[39m\u001b[38;5;21m__getitem__\u001b[39m(key)\n",
      "File \u001b[0;32m/opt/anaconda3/lib/python3.12/site-packages/pandas/core/base.py:239\u001b[0m, in \u001b[0;36mSelectionMixin.__getitem__\u001b[0;34m(self, key)\u001b[0m\n\u001b[1;32m    237\u001b[0m     \u001b[38;5;28;01mif\u001b[39;00m \u001b[38;5;28mlen\u001b[39m(\u001b[38;5;28mself\u001b[39m\u001b[38;5;241m.\u001b[39mobj\u001b[38;5;241m.\u001b[39mcolumns\u001b[38;5;241m.\u001b[39mintersection(key)) \u001b[38;5;241m!=\u001b[39m \u001b[38;5;28mlen\u001b[39m(\u001b[38;5;28mset\u001b[39m(key)):\n\u001b[1;32m    238\u001b[0m         bad_keys \u001b[38;5;241m=\u001b[39m \u001b[38;5;28mlist\u001b[39m(\u001b[38;5;28mset\u001b[39m(key)\u001b[38;5;241m.\u001b[39mdifference(\u001b[38;5;28mself\u001b[39m\u001b[38;5;241m.\u001b[39mobj\u001b[38;5;241m.\u001b[39mcolumns))\n\u001b[0;32m--> 239\u001b[0m         \u001b[38;5;28;01mraise\u001b[39;00m \u001b[38;5;167;01mKeyError\u001b[39;00m(\u001b[38;5;124mf\u001b[39m\u001b[38;5;124m\"\u001b[39m\u001b[38;5;124mColumns not found: \u001b[39m\u001b[38;5;132;01m{\u001b[39;00m\u001b[38;5;28mstr\u001b[39m(bad_keys)[\u001b[38;5;241m1\u001b[39m:\u001b[38;5;241m-\u001b[39m\u001b[38;5;241m1\u001b[39m]\u001b[38;5;132;01m}\u001b[39;00m\u001b[38;5;124m\"\u001b[39m)\n\u001b[1;32m    240\u001b[0m     \u001b[38;5;28;01mreturn\u001b[39;00m \u001b[38;5;28mself\u001b[39m\u001b[38;5;241m.\u001b[39m_gotitem(\u001b[38;5;28mlist\u001b[39m(key), ndim\u001b[38;5;241m=\u001b[39m\u001b[38;5;241m2\u001b[39m)\n\u001b[1;32m    242\u001b[0m \u001b[38;5;28;01melse\u001b[39;00m:\n",
      "\u001b[0;31mKeyError\u001b[0m: \"Columns not found: 'Battery_Discharges_TWh'\""
     ]
    }
   ],
   "source": [
    "columns_to_summarize = ['RP_mean', 'Battery_Discharges_GWh', 'Shortages_TWh', 'CO2_mtons']  \n",
    "yearly_results = yearly_results.groupby(['Pathway', 'Year'])[columns_to_summarize].mean().reset_index()\n",
    "print(yearly_results.max()*10)"
   ]
  },
  {
   "cell_type": "code",
   "execution_count": null,
   "id": "5ba9c513-e670-4a92-817d-eb88d8326a27",
   "metadata": {},
   "outputs": [],
   "source": [
    "import matplotlib.pyplot as plt\n",
    "import matplotlib.lines as mlines\n",
    "\n",
    "# Convert RP_mean to percentages for the y-axis\n",
    "yearly_results[\"RP_mean_percent\"] = yearly_results[\"RP_mean\"] * 100\n",
    "\n",
    "# Explicitly define improved pastel colors for each pathway\n",
    "unique_pathways = yearly_results[\"Pathway\"].unique()\n",
    "pathway_colors = {\n",
    "    \"A\": \"grey\",\n",
    "    \"B1\": \"#05445E\",  # Muted pastel blue\n",
    "    \"B2\": \"#189AB4\",  # Muted pastel light blue\n",
    "    \"B3\": \"#75E6DA\",  # Muted pastel sky blue\n",
    "    \"C1\": \"#2F5233\",  # Muted pastel lavender\n",
    "    \"C2\": \"#76B947\",  # Muted pastel pink lavender\n",
    "    \"C3\": \"#B1D8B7\",  # Muted pastel light pink\n",
    "    \"D\": \"#F51720\",   # Muted pastel gold\n",
    "}\n",
    "\n",
    "\n",
    "\n",
    "# Create the scatter plot\n",
    "plt.figure(figsize=(8, 6))\n",
    "\n",
    "# Add light pink shading between 10% and 50% (excluded from legend)\n",
    "plt.axhspan(0, 50, color=\"#f9e8d4\", alpha=0.5)\n",
    "# Add a dashed horizontal line at 50% (excluded from legend)\n",
    "plt.axhline(y=50, color=\"#f9e8d4\", linestyle=\"--\", linewidth=1.5)\n",
    "\n",
    "for pathway in unique_pathways:\n",
    "    subset = yearly_results[yearly_results[\"Pathway\"] == pathway]\n",
    "    plt.scatter(\n",
    "        subset[\"Battery_Discharges_TWh\"],  # x-axis\n",
    "        subset[\"RP_mean_percent\"],  # y-axis\n",
    "        s=subset[\"CO2_mtons\"]*0.25,  # Bubble size\n",
    "        color=pathway_colors.get(pathway, \"#D3D3D3\"),  # Default to light gray if not in predefined colors\n",
    "        edgecolors=\"#4C5270\",  # Edge color\n",
    "        linewidth=0.5, label=pathway\n",
    "    )\n",
    "\n",
    "# Add labels and title\n",
    "#plt.xlabel(\"Battery Discharges (TWh)\", fontsize=12)\n",
    "#plt.ylabel(\"RP Mean (%)\", fontsize=12)\n",
    "\n",
    "# Create custom legends\n",
    "# Legend for colors (pathways)\n",
    "from matplotlib.patches import Patch\n",
    "\n",
    "color_legend_labels = [\n",
    "    Patch(facecolor=pathway_colors[pathway], label=pathway)\n",
    "    for pathway in unique_pathways\n",
    "]\n",
    "\n",
    "\n",
    "# Legend for bubble sizes\n",
    "bubble_sizes = [100, 500, 1000]  # Example bubble sizes in mtons\n",
    "scaling_factor = 0.25  # Ensure this matches the scale factor used in `s`\n",
    "bubble_legend_labels = [\n",
    "    mlines.Line2D(\n",
    "        [], [], color='#4C5270', marker='o', linestyle='None',\n",
    "        markersize=(size * scaling_factor)**0.5,  # Correct for area scaling\n",
    "        label=f\"{size} thousand-tons\"\n",
    "    )\n",
    "    for size in bubble_sizes\n",
    "]\n",
    "\n",
    "# Add legends\n",
    "color_legend = plt.legend(handles=color_legend_labels, title=\"Pathways\", fontsize=10,\n",
    "                          title_fontsize=11, loc=\"upper left\", bbox_to_anchor=(1.05, 1), frameon=False)\n",
    "plt.gca().add_artist(color_legend)\n",
    "\n",
    "bubble_legend = plt.legend(handles=bubble_legend_labels, title=\"CO$_2$ emissions\", fontsize=10,\n",
    "                           title_fontsize=11, loc=\"upper left\", labelspacing=1, bbox_to_anchor=(1.05, 0.6), \n",
    "                           frameon=False)\n",
    "\n",
    "# Set y-axis limits and remove grid lines\n",
    "plt.ylim(0, 100)\n",
    "plt.grid(False)\n",
    "\n",
    "# Adjust layout to make space for the legends\n",
    "plt.tight_layout()\n",
    "plt.savefig('Energy_storage.svg', dpi=300, bbox_inches='tight')\n",
    "plt.show()\n"
   ]
  },
  {
   "cell_type": "code",
   "execution_count": null,
   "id": "6bcb0adf-458b-4626-aafc-1f393d30e5d2",
   "metadata": {},
   "outputs": [],
   "source": []
  },
  {
   "cell_type": "code",
   "execution_count": null,
   "id": "abb5825e-c61e-468c-9c41-1f0ea4eb046b",
   "metadata": {},
   "outputs": [],
   "source": []
  },
  {
   "cell_type": "code",
   "execution_count": null,
   "id": "b8b30baf-6d1f-4731-9c3d-9928d6d277db",
   "metadata": {},
   "outputs": [],
   "source": []
  }
 ],
 "metadata": {
  "kernelspec": {
   "display_name": "Python 3 (ipykernel)",
   "language": "python",
   "name": "python3"
  },
  "language_info": {
   "codemirror_mode": {
    "name": "ipython",
    "version": 3
   },
   "file_extension": ".py",
   "mimetype": "text/x-python",
   "name": "python",
   "nbconvert_exporter": "python",
   "pygments_lexer": "ipython3",
   "version": "3.12.7"
  }
 },
 "nbformat": 4,
 "nbformat_minor": 5
}
